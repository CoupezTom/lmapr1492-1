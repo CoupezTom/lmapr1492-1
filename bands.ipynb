{
 "cells": [
  {
   "cell_type": "code",
   "execution_count": 28,
   "metadata": {},
   "outputs": [],
   "source": [
    "from pymatgen.ext.matproj import MPRester\n",
    "\n",
    "with MPRester (\"z5aIUAkpFPTHndsr\") as m:\n",
    "    \n",
    "    #Création de la structure du cristal à partir du MP\n",
    "    structure = m.get_structure_by_material_id(\"mp-15783\")"
   ]
  },
  {
   "cell_type": "code",
   "execution_count": 29,
   "metadata": {},
   "outputs": [],
   "source": [
    "from pymatgen.electronic_structure.plotter import BSPlotter\n",
    "import numpy as np\n",
    "import matplotlib.pyplot as plt\n",
    "\n",
    "#Création de la structure de bande du cristal\n",
    "bandstruct = m.get_bandstructure_by_material_id(\"mp-15783\")\n",
    "\n",
    "#Création d'un objet BSPlotter pour pouvoir afficher le graphe\n",
    "BS = BSPlotter(bandstruct)\n",
    "\n",
    "#Récupération des éléments intéressant de la structure de bande\n",
    "Elem = BS.bs_plot_data()\n",
    "\n",
    "\n"
   ]
  },
  {
   "cell_type": "markdown",
   "metadata": {},
   "source": [
    "Danc cette partie, nous allons analyser la structure de bande du cristal $KSmS_2$. \n",
    "\n",
    "L'image ci-dessous représente la zone de Brillouin ainsi que les points critiques qui nous serons utiles pour le reste de la question."
   ]
  },
  {
   "cell_type": "code",
   "execution_count": 30,
   "metadata": {},
   "outputs": [
    {
     "data": {
      "image/png": "[encoded data removed]",
      "text/plain": [
       "<Figure size 432x288 with 1 Axes>"
      ]
     },
     "metadata": {
      "needs_background": "light"
     },
     "output_type": "display_data"
    }
   ],
   "source": [
    "BS.plot_brillouin()"
   ]
  },
  {
   "cell_type": "markdown",
   "metadata": {},
   "source": [
    "# 1) Bande interdite <h1>\n",
    "    \n",
    "Par définition, la bande interdite est une bande dans laquelle aucun niveau d'énergie ne peut être occupé par les électrons du cristal. Cela signifie donc que la densité d'état sur cette bande est nulle. Dans notre cas, la bande interdite est déterminée par la fonction  suivante :"
   ]
  },
  {
   "cell_type": "code",
   "execution_count": 7,
   "metadata": {},
   "outputs": [
    {
     "name": "stdout",
     "output_type": "stream",
     "text": [
      "{'direct': False, 'energy': 2.2759, 'transition': '\\\\Gamma-F'}\n"
     ]
    }
   ],
   "source": [
    "#Détermination de la bande interdite\n",
    "BI = bandstruct.get_band_gap()\n",
    "print(BI)"
   ]
  },
  {
   "cell_type": "markdown",
   "metadata": {},
   "source": [
    "La bande interdite est dite \"indirecte\", c'est-à-dire que le maximum de la dernière bande de valence n'est pas aligné avec le minimum de la première bande de conduction. Il faudra donc apporter à un électron une énergie supérieure à la valeur de la bande interdite pour le faire passer de la bande de valence à la bande de conduction. \n",
    "\n",
    "La bande interdite a comme valeur 2.2759eV et la transition se fait du kpoint $\\Gamma$ au kpoint F.\n",
    "\n",
    "Sur l'image ci-dessous, le maximum de la dernière bande de valence est représenté par un point vert et le minimum de la première bande de conduction par un point rouge. La flèche indique la transition et la partie rouge représente la bande interdite. \n",
    "<img src=\"https://github.com/sderaedemack/lmapr1492/blob/master/Images/Bande_interdite.png?raw=true\" width=\"600\">"
   ]
  },
  {
   "cell_type": "markdown",
   "metadata": {},
   "source": [
    "# 2) Dispersion <h>\n",
    "    \n",
    "Pour trouver les directions dans la dernière (première) bande de valence (conduction) présentant le plus et le moins de dispersion, nous regardons la valeur absolue la plus (moins) élevée de la pente dans chaque branche définie par les axes verticaux."
   ]
  },
  {
   "cell_type": "code",
   "execution_count": 48,
   "metadata": {},
   "outputs": [
    {
     "name": "stdout",
     "output_type": "stream",
     "text": [
      "La pente maximale de la dernière bande de valence se situe entre les abscisses [2.8271804605563706, 3.8640146628395815]\n",
      " et entre les ordonnées [0.0, -0.8501000000000001] et vaut en valeur absolue 0.8198996504243362\n",
      "La pente minimale de la dernière bande de valence se situe entre les abscisses [4.3426338799492346, 4.491683543177971]\n",
      " et entre les ordonnées [-0.5222000000000001, -0.5340000000000001] et vaut en valeur absolue 0.07916824328473228\n"
     ]
    }
   ],
   "source": [
    "#########Bande de valence#########\n",
    "#Création de variable pour pouvoir trouver la pente maximale et minimale \n",
    "xi = 0 #Valeur du vecteur d'onde k à gauche\n",
    "bandsi = 0 #Valeur de l'énergie à gauche\n",
    "xf = 0 #Valeur du vecteur d'onde k à droite\n",
    "bandsf = 0 #Valeur de l'énergie à droite\n",
    "pente_max = 0 #Valeur de la pente maximale\n",
    "pente_min = 100 #valeur de la pente minimale\n",
    "x_max  = [0,0] #Paire de valeurs de vecteur d'onde là où se situe la pente maximale\n",
    "bands_max = [0,0] #Paire de valeur d'énergie où se situe la pente maximale\n",
    "x_min = [0,0] #Paire de valeurs de vecteur d'onde là où se situe la pente minimale\n",
    "bands_min = [0,0] #Paire de valeur d'énergie où se situe la pente minimale\n",
    "\n",
    "#On commence à parcourir les valeurs d'abscisse et d'ordonée possibles. On se concentre sur une branche à la fois.\n",
    "#On ne regarde d'abord que la dernière bande de valence. Cette bande porte le numéro 15 dans l'ensemble des bandes du\n",
    "#cristal.\n",
    "for xpath, epath in zip(Elem[\"distances\"], Elem[\"energy\"]):\n",
    "    xi = xpath[0] #La valeur de gauche correspond à la valeur la plus à gauche de la branche\n",
    "    bandsi = epath['1'][15][0] #La valeur de gauche correspond à la valeur la plus à gauche de la branche. On récupère\n",
    "                               #l'énergie de chaque branche pour la 15ème bande.\n",
    "    xf = xpath[len(xpath)-1] #La valeur de droite correspond à la valeur la plus à droite de la branche\n",
    "    bandsf = epath['1'][15][len(epath['1'][15])-1]    \n",
    "    pente = np.abs((bandsf-bandsi)/(xf-xi)) #Calcul de la valeur absolue de la pente\n",
    "    if pente >= pente_max:\n",
    "        pente_max  = pente\n",
    "        x_max = [xi,xf]\n",
    "        bands_max = [bandsi,bandsf]\n",
    "    if pente <= pente_min:\n",
    "        pente_min = pente\n",
    "        x_min = [xi,xf]\n",
    "        bands_min = [bandsi,bandsf]\n",
    "\n",
    "#Affichage des vecteurs d'onde et des énergies correspondant à la pente maximale et minimale pour pouvoir la situer sur le graphe\n",
    "print('La pente maximale de la dernière bande de valence se situe entre les abscisses ' + str(x_max) + \n",
    "      '\\n et entre les ordonnées ' + str(bands_max) + ' et vaut en valeur absolue ' + str(pente_max))\n",
    "print('La pente minimale de la dernière bande de valence se situe entre les abscisses ' + str(x_min) + \n",
    "      '\\n et entre les ordonnées ' + str(bands_min) + ' et vaut en valeur absolue ' + str(pente_min))"
   ]
  },
  {
   "cell_type": "code",
   "execution_count": 49,
   "metadata": {},
   "outputs": [
    {
     "name": "stdout",
     "output_type": "stream",
     "text": [
      "La pente maximale de la première bande de conduction se situe entre les abscisses [3.8640146628395815, 4.3426338799492346]\n",
      " et entre les ordonnées [3.6165, 2.2759] et vaut en valeur absolue 2.8009740354676658\n",
      "La pente minimale de la première bande de conduction se situe entre les abscisses [1.4445767231015862, 2.401815070025256]\n",
      " et entre les ordonnées [3.586, 3.461] et vaut en valeur absolue 0.13058398715609282\n"
     ]
    }
   ],
   "source": [
    "#########Bande de conduction#########\n",
    "#Création de variable pour pouvoir trouver la pente maximale et minimale\n",
    "xi = 0 #Valeur du vecteur d'onde k à gauche\n",
    "bandsi = 0 #Valeur de l'énergie à gauche\n",
    "xf = 0 #Valeur du vecteur d'onde k à droite\n",
    "bandsf = 0 #Valeur de l'énergie à droite\n",
    "pente_max = 0 #Valeur de la pente maximale\n",
    "pente_min = 100 #valeur de la pente minimale\n",
    "x_max  = [0,0] #Paire de valeurs de vecteur d'onde là où se situe la pente maximale\n",
    "bands_max = [0,0] #Paire de valeur d'énergie où se situe la pente maximale\n",
    "x_min = [0,0] #Paire de valeurs de vecteur d'onde là où se situe la pente minimale\n",
    "bands_min = [0,0] #Paire de valeur d'énergie où se situe la pente minimale\n",
    "\n",
    "#On commence à parcourir les valeurs d'abscisse et d'ordonée possibles. On se concentre sur une branche à la fois.\n",
    "#On ne regarde que la première bande de conduction. Cette bande porte le numéro 16 dans l'ensemble des bandes du\n",
    "#cristal.\n",
    "for xpath, epath in zip(Elem[\"distances\"], Elem[\"energy\"]):\n",
    "    xi = xpath[0] #La valeur de gauche correspond à la valeur la plus à gauche de la branche\n",
    "    bandsi = epath['1'][16][0] #La valeur de gauche correspond à la valeur la plus à gauche de la branche. On récupère\n",
    "                               #l'énergie de chaque branche pour la 16ème bande.\n",
    "    xf = xpath[len(xpath)-1] #La valeur de droite correspond à la valeur la plus à droite de la branche\n",
    "    bandsf = epath['1'][16][len(epath['1'][16])-1]    \n",
    "    pente = np.abs((bandsf-bandsi)/(xf-xi)) #Calcul de la valeur absolue de la pente\n",
    "    if pente >= pente_max:\n",
    "        pente_max  = pente\n",
    "        x_max = [xi,xf]\n",
    "        bands_max = [bandsi,bandsf]\n",
    "    if pente <= pente_min:\n",
    "        pente_min = pente\n",
    "        x_min = [xi,xf]\n",
    "        bands_min = [bandsi,bandsf]\n",
    "\n",
    "#Affichage des vecteurs d'onde et des énergies correspondant au delta d'énergie maximum et minimum pour pouvoir \n",
    "#la situer sur le graphe\n",
    "print('La pente maximale de la première bande de conduction se situe entre les abscisses ' + str(x_max) + \n",
    "      '\\n et entre les ordonnées ' + str(bands_max) + ' et vaut en valeur absolue ' + str(pente_max))\n",
    "print('La pente minimale de la première bande de conduction se situe entre les abscisses ' + str(x_min) + \n",
    "      '\\n et entre les ordonnées ' + str(bands_min) + ' et vaut en valeur absolue ' + str(pente_min))"
   ]
  },
  {
   "cell_type": "markdown",
   "metadata": {},
   "source": [
    "Si nous nous intéressons dans un premier temps à la dernière bande de valence, nous pouvons observer que la direction dans laquelle elle présente le plus de dispersion (représentée par la flèche rouge) est $\\Gamma - X|Q$. La direction avec le moins de dispersion (représentée par la flèche verte) est quant à elle $F-P_1$.\n",
    "\n",
    "Regardons ensuite la première bande de conduction. La direction dans laquelle cette bande présente le plus de dispersion (flèche rouge) est $X|Q-F$. La direction avec le moins de dispersion (flèche verte) est $B_1|B-Z$.\n",
    "<img src=\"https://github.com/sderaedemack/lmapr1492/blob/master/Images/band_dispersion.png?raw=true\" width=\"700\">"
   ]
  },
  {
   "cell_type": "markdown",
   "metadata": {},
   "source": [
    "# 3) Masse effective <h1>\n",
    "    \n",
    "Si nous supposons que la dispersion est parabolique, l'équation de la masse effective $m^*$ peut s'écrire\n",
    "\n",
    "\\begin{equation}\n",
    "    m^* = \\frac{\\hbar^2}{\\frac{d^2E}{dk^2}}\n",
    "\\end{equation}\n",
    "\n",
    "avec $\\hbar$ la contante réduite de Planck égale à $6.582 \\times 10^{−16} eVs$.\n",
    "\n",
    "Pour des états proches des maxima et minima de bande, cette équation peut-être approximée par\n",
    "\n",
    "\\begin{equation}\n",
    "    E(k)-E_0=\\pm \\frac{\\hbar^2}{2m^*}(k_x^2+k_y^2+k_z^2).\n",
    "\\end{equation}\n",
    "\n",
    "Pour la suite du développement, nous considèrerons que $E(k)-E_0$ correspond à l'énergie de l'électron."
   ]
  },
  {
   "cell_type": "code",
   "execution_count": 50,
   "metadata": {},
   "outputs": [
    {
     "name": "stdout",
     "output_type": "stream",
     "text": [
      "La valeur de la norme est 0.0\n"
     ]
    }
   ],
   "source": [
    "#########Bande de valence#########\n",
    "h_bar = 6.582119570 * 1e-16 #eVs\n",
    "\n",
    "#Récupération des données du maximum de la dernière bande de valence\n",
    "VBM = bandstruct.get_vbm()\n",
    "\n",
    "#Récupération du vecteur d'onde associé en coordonnées factionnelles\n",
    "kpoint = VBM.get('kpoint').frac_coords\n",
    "\n",
    "#Calcul de la norme\n",
    "k = np.linalg.norm(kpoint)\n",
    "\n",
    "print('La valeur de la norme est ' + str(k))"
   ]
  },
  {
   "cell_type": "markdown",
   "metadata": {},
   "source": [
    "Comme nous pouvons le voir, la norme du vecteur d'onde est nulle. Pour pouvoir tout de même utiliser la formule citée plus haut, nous allons profiter de la périodicté du réseau réciproque. En effet, $E_{n,k}=E_{n,k+G}$ avec n le numéro de la bande et $\\textbf{G}=l'G+m'G+n'G$ un vecteur du réseau réciproque. La norme de **G** nous est donnée par $G=p\\frac{2\\pi}{a}$ avec a la norme du vecteur de base du réseau direct et p un entier. \n",
    "\n",
    "Nous récupérons la valeur de a dans le code 'lattice'."
   ]
  },
  {
   "cell_type": "code",
   "execution_count": 51,
   "metadata": {},
   "outputs": [
    {
     "name": "stdout",
     "output_type": "stream",
     "text": [
      "La masse effective du sommet de la dernière bande de valence est 9.93174099936551e-32 kg\n"
     ]
    }
   ],
   "source": [
    "#Valeur de la norme de a\n",
    "a = 7.763862276302451\n",
    "\n",
    "#Calcul de la norme de G\n",
    "G = 2*np.pi/a\n",
    "\n",
    "#Récupération de l'énergie associée au VBM\n",
    "E = VBM['energy']\n",
    "\n",
    "#Calcul de la masse effective\n",
    "m_e = h_bar**2*G**2/(2*E)\n",
    "print('La masse effective du sommet de la dernière bande de valence est ' + str(m_e) + ' kg')"
   ]
  },
  {
   "cell_type": "code",
   "execution_count": 52,
   "metadata": {},
   "outputs": [
    {
     "name": "stdout",
     "output_type": "stream",
     "text": [
      "La valeur de la norme est 0.7071067811865476\n"
     ]
    }
   ],
   "source": [
    "#########Bande de conduction#########\n",
    "\n",
    "#Récupération des données du minimum de la première bande de conduction\n",
    "CBM = bandstruct.get_cbm()\n",
    "\n",
    "#Récupération du vecteur d'onde associé en coordonnées factionnelles\n",
    "kpoint_CBM = CBM.get('kpoint').frac_coords\n",
    "\n",
    "#Calcul de la norme\n",
    "k_CBM = np.linalg.norm(kpoint_CBM)\n",
    "\n",
    "print('La valeur de la norme est ' + str(k_CBM))\n",
    "\n"
   ]
  },
  {
   "cell_type": "markdown",
   "metadata": {},
   "source": [
    "Dans ce cas, la norme n'est pas nulle, par conséquent il n'est pas nécessaire de modifier le vecteur d'onde."
   ]
  },
  {
   "cell_type": "code",
   "execution_count": 53,
   "metadata": {},
   "outputs": [
    {
     "name": "stdout",
     "output_type": "stream",
     "text": [
      "La masse effective de la base de la première bande de conduction est 2.9238404352781143e-32 kg\n"
     ]
    }
   ],
   "source": [
    "#Récupération de l'énergie associée au CBM\n",
    "E_CBM = CBM['energy']\n",
    "\n",
    "#Calcul de la masse effective\n",
    "m_e_CBM = h_bar**2*k_CBM**2/(2*E_CBM)\n",
    "\n",
    "print('La masse effective de la base de la première bande de conduction est ' + str(m_e_CBM) + ' kg')"
   ]
  },
  {
   "cell_type": "markdown",
   "metadata": {},
   "source": [
    "# 4) Références <h1>\n",
    "   \n",
    "**Code :**\n",
    "\n",
    "[Band Structure of NiO](https://matgenb.materialsvirtuallab.org/2013/01/01/Bandstructure-of-NiO.html)"
   ]
  },
  {
   "cell_type": "code",
   "execution_count": null,
   "metadata": {},
   "outputs": [],
   "source": []
  }
 ],
 "metadata": {
  "kernelspec": {
   "display_name": "Python 3",
   "language": "python",
   "name": "python3"
  },
  "language_info": {
   "codemirror_mode": {
    "name": "ipython",
    "version": 3
   },
   "file_extension": ".py",
   "mimetype": "text/x-python",
   "name": "python",
   "nbconvert_exporter": "python",
   "pygments_lexer": "ipython3",
   "version": "3.6.8"
  }
 },
 "nbformat": 4,
 "nbformat_minor": 2
}
