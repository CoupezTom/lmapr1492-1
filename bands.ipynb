{
 "cells": [
  {
   "cell_type": "code",
   "execution_count": 1,
   "metadata": {},
   "outputs": [],
   "source": [
    "from pymatgen.ext.matproj import MPRester\n",
    "\n",
    "with MPRester (\"z5aIUAkpFPTHndsr\") as m:\n",
    "    \n",
    "    #Création de la structure du cristal à partir du MP\n",
    "    structure = m.get_structure_by_material_id(\"mp-15783\")"
   ]
  },
  {
   "cell_type": "code",
   "execution_count": null,
   "metadata": {},
   "outputs": [],
   "source": [
    "from pymatgen.electronic_structure.plotter import BSPlotter\n",
    "import numpy as np\n",
    "import matplotlib.pyplot as plt\n",
    "\n",
    "#Création de la structure de bande du cristal\n",
    "bandstruct = m.get_bandstructure_by_material_id(\"mp-15783\")\n",
    "\n",
    "#Création d'un objet BSPlotter pour pouvoir afficher le graphe\n",
    "BS = BSPlotter(bandstruct)\n",
    "\n",
    "#Récupération des éléments intéressant de la structure de bande\n",
    "Elem = BS.bs_plot_data()\n",
    "\n",
    "\n"
   ]
  },
  {
   "cell_type": "markdown",
   "metadata": {},
   "source": [
    "Danc cette partie, nous allons analyser la strcuture de bande du cristal $KSmS_2$. \n",
    "\n",
    "L'image ci-dessous représente la zone de Brillouin ainsi que les points critiques que nous serons utiles pour le reste de la question "
   ]
  },
  {
   "cell_type": "code",
   "execution_count": null,
   "metadata": {},
   "outputs": [],
   "source": [
    "BS.plot_brillouin()"
   ]
  },
  {
   "cell_type": "markdown",
   "metadata": {},
   "source": [
    "# 1) Bande interdite <h1>\n",
    "    \n",
    "Par définition, la bande interdite est une bande dans laquelle aucun niveau d'énergie ne peut être occupé par les électrons du cristal. Cela signifie donc que la densité d'état sur cette bande est nulle. Dans notre cas, la bande interdite est déterminée par la fonction  suivante :"
   ]
  },
  {
   "cell_type": "code",
   "execution_count": 27,
   "metadata": {},
   "outputs": [
    {
     "name": "stdout",
     "output_type": "stream",
     "text": [
      "{'direct': False, 'energy': 2.2759, 'transition': '\\\\Gamma-F'}\n"
     ]
    }
   ],
   "source": [
    "#Détermination de la bande interdite\n",
    "BI = bandstruct.get_band_gap()\n",
    "print(BI)"
   ]
  },
  {
   "cell_type": "markdown",
   "metadata": {},
   "source": [
    "La bande interdite est dite \"indirecte\", c'est-à-dire que le maximum de la dernière bande de valence n'est pas aligné avec le minimum de la première bande de conduction. Il faudra donc apporter à un électron une énergie supérieure à la valeur de la bande interdite pour le faire passer de la bande de valence à la bande de conduction. \n",
    "\n",
    "La bande interdite a comme valeur 2.2759eV et la transition se fait du kpoint $\\Gamma$ au kpoint F.\n",
    "\n",
    "Sur l'image ci-dessous, le maximum de la dernière bande de valence est représentée par un point vert et le minimum de la première bande de conduction par un point rouge. La flèche indique la transition et la partie rouge représente la bande interdite. \n",
    "<img src=\"https://github.com/sderaedemack/lmapr1492/blob/master/Images/Bande_interdite.png?raw=true\" width=\"600\">"
   ]
  },
  {
   "cell_type": "markdown",
   "metadata": {},
   "source": [
    "# 2) Dispersion <h>\n",
    "    \n",
    "Pour trouver les directions dans la dernière (première) bande de valence (conduction) présentant le plus et le moins de dispersion, nous regardons la valeur absolue la plus (moins) élevée de $\\Delta(E-E_f)$ dans chaque zone définie par les axes verticaux."
   ]
  },
  {
   "cell_type": "code",
   "execution_count": 167,
   "metadata": {},
   "outputs": [
    {
     "name": "stdout",
     "output_type": "stream",
     "text": [
      "Le delta maximum de la dernière bande de valence se situe entre les abscisses [2.8271804605563706, 3.8640146628395815]\n",
      " et entre les ordonnées [0.0, -0.8501000000000001] et vaut en valeur absolue 0.8501000000000001\n",
      "Le delta minimum de la dernière bande de valence se situe entre les abscisses [4.3426338799492346, 4.491683543177971]\n",
      " et entre les ordonnées [-0.5222000000000001, -0.5340000000000001] et vaut en valeur absolue 0.011800000000000033\n"
     ]
    }
   ],
   "source": [
    "#########Bande de valence#########\n",
    "#Création de variable pour pouvoir trouver le delta maximum et minimu \n",
    "xi = 0 #Valeur du vecteur d'onde k à gauche\n",
    "bandsi = 0 #Valeur de l'énergie à gauche\n",
    "xf = 0 #Valeur du vecteur d'onde k à droite\n",
    "bandsf = 0 #Valeur de l'énergie à droite\n",
    "delta_max = 0 #Valeur du delta maximum\n",
    "delta_min = 100 #valeur du delta minimum\n",
    "x_max  = [0,0] #Paire de valeurs de vecteur d'onde là où se situe le delta maximum\n",
    "bands_max = [0,0] #Paire de valeur d'énergie où se situe le delta maximum\n",
    "x_min = [0,0] #Paire de valeurs de vecteur d'onde là où se situe le delta minimum\n",
    "bands_min = [0,0] #Paire de valeur d'énergie où se situe le delta minimum\n",
    "\n",
    "#On commence à parcourir les valeurs d'abscisse et d'ordonée possibles. On se concentre sur une branche à la fois.\n",
    "#On ne regarde d'abord que la dernière bande de valence. Cette bande porte le numéro 15 dans l'ensemble des bandes du\n",
    "#cristal.\n",
    "for xpath, epath in zip(Elem[\"distances\"], Elem[\"energy\"]):\n",
    "    xi = xpath[0] #La valeur de gauche correspond à la valeur la plus à gauche de la branche\n",
    "    bandsi = epath['1'][15][0] #La valeur de gauche correspond à la valeur la plus à gauche de la branche. On récupère\n",
    "                               #l'énergie de chaque branche pour la 15ème bande.\n",
    "    xf = xpath[len(xpath)-1] #La valeur de droite correspond à la valeur la plus à droite de la branche\n",
    "    bandsf = epath['1'][15][len(epath['1'][15])-1]    \n",
    "    delta = np.abs(bandsf-bandsi) #Calcul du delta d'énergie en valeur absolue\n",
    "    if delta >= delta_max:\n",
    "        delta_max  = delta\n",
    "        x_max = [xi,xf]\n",
    "        bands_max = [bandsi,bandsf]\n",
    "    if delta <= delta_min:\n",
    "        delta_min = delta\n",
    "        x_min = [xi,xf]\n",
    "        bands_min = [bandsi,bandsf]\n",
    "\n",
    "#Affichage des vecteurs d'onde et des énergies correspondant u delta maximum et minimum pour pouvoir la situer sur le graphe\n",
    "print('Le delta maximum de la dernière bande de valence se situe entre les abscisses ' + str(x_max) + \n",
    "      '\\n et entre les ordonnées ' + str(bands_max) + ' et vaut en valeur absolue ' + str(delta_max))\n",
    "print('Le delta minimum de la dernière bande de valence se situe entre les abscisses ' + str(x_min) + \n",
    "      '\\n et entre les ordonnées ' + str(bands_min) + ' et vaut en valeur absolue ' + str(delta_min))"
   ]
  },
  {
   "cell_type": "code",
   "execution_count": 170,
   "metadata": {},
   "outputs": [
    {
     "name": "stdout",
     "output_type": "stream",
     "text": [
      "Le delta maximum de la première bande de conduction se situe entre les abscisses [3.8640146628395815, 4.3426338799492346]\n",
      " et entre les ordonnées [3.6165, 2.2759] et vaut en valeur absolue 1.3405999999999998\n",
      "Le delta minimum de la première bande de conduction se situe entre les abscisses [2.401815070025256, 2.8271804605563706]\n",
      " et entre les ordonnées [3.461, 3.4020999999999995] et vaut en valeur absolue 0.058900000000000396\n"
     ]
    }
   ],
   "source": [
    "#########Bande de conduction#########\n",
    "#Création de variable pour pouvoir trouver le delta maximum et minimum \n",
    "xi = 0 #Valeur du vecteur d'onde k à gauche\n",
    "bandsi = 0 #Valeur de l'énergie à gauche\n",
    "xf = 0 #Valeur du vecteur d'onde k à droite\n",
    "bandsf = 0 #Valeur de l'énergie à droite\n",
    "delta_max = 0 #Valeur du delta maximum\n",
    "delta_min = 100 #valeur du delta minimum\n",
    "x_max  = [0,0] #Paire de valeurs de vecteur d'onde là où se situe le delta maximum\n",
    "bands_max = [0,0] #Paire de valeur d'énergie où se situe le delta maximum\n",
    "x_min = [0,0] #Paire de valeurs de vecteur d'onde là où se situe le delta minimum\n",
    "bands_min = [0,0] #Paire de valeur d'énergie où se situe le delta minimum\n",
    "\n",
    "#On commence à parcourir les valeurs d'abscisse et d'ordonée possibles. On se concentre sur une branche à la fois.\n",
    "#On ne regarde que la première bande de conduction. Cette bande porte le numéro 16 dans l'ensemble des bandes du\n",
    "#cristal.\n",
    "for xpath, epath in zip(Elem[\"distances\"], Elem[\"energy\"]):\n",
    "    xi = xpath[0] #La valeur de gauche correspond à la valeur la plus à gauche de la branche\n",
    "    bandsi = epath['1'][16][0] #La valeur de gauche correspond à la valeur la plus à gauche de la branche. On récupère\n",
    "                               #l'énergie de chaque branche pour la 16ème bande.\n",
    "    xf = xpath[len(xpath)-1] #La valeur de droite correspond à la valeur la plus à droite de la branche\n",
    "    bandsf = epath['1'][16][len(epath['1'][16])-1]    \n",
    "    delta = np.abs((bandsf-bandsi)) #Calcul de la valeur absolue du delta d'énergie\n",
    "    if delta >= delta_max:\n",
    "        delta_max  = delta\n",
    "        x_max = [xi,xf]\n",
    "        bands_max = [bandsi,bandsf]\n",
    "    if delta <= delta_min:\n",
    "        delta_min = delta\n",
    "        x_min = [xi,xf]\n",
    "        bands_min = [bandsi,bandsf]\n",
    "\n",
    "#Affichage des vecteurs d'onde et des énergies correspondant au delta d'énergie maximum et minimum pour pouvoir \n",
    "#la situer sur le graphe\n",
    "print('Le delta maximum de la première bande de conduction se situe entre les abscisses ' + str(x_max) + \n",
    "      '\\n et entre les ordonnées ' + str(bands_max) + ' et vaut en valeur absolue ' + str(delta_max))\n",
    "print('Le delta minimum de la première bande de conduction se situe entre les abscisses ' + str(x_min) + \n",
    "      '\\n et entre les ordonnées ' + str(bands_min) + ' et vaut en valeur absolue ' + str(delta_min))"
   ]
  },
  {
   "cell_type": "markdown",
   "metadata": {},
   "source": [
    "Si nous nous intéressons dans un premier temps à la dernière bande de valence, nous pouvons observer que la direction dans laquelle elle présente le plus de dipsersion (représentée par la flèche rouge) est $\\Gamma - X|Q$. La direction avec le moins de dispersion (représentée par la flèche verte) est quant à elle $F-P_1$.\n",
    "\n",
    "Regardons ensuite la première bande de conduction. La direction dans laquelle cette bande présente le plus de dispersion (flèche rouge) est $X|Q-F$. La direction avec le moins de dispersion (flèche verte) est $Z-\\Gamma$.\n",
    "<img src=\"https://github.com/sderaedemack/lmapr1492/blob/master/Images/bans_dir.png?raw=true\" width=\"700\">"
   ]
  },
  {
   "cell_type": "markdown",
   "metadata": {},
   "source": [
    "# 3) Masse effective <h1>\n",
    "    \n",
    "Si l'on suppose notre dispersion comme étant parabolique, l'équation de la masse effective $m^*$ peut s'écrire\n",
    "\n",
    "\\begin{equation}\n",
    "    m^* = \\frac{\\hbar^2}{\\frac{d^2E}{dk^2}}\n",
    "\\end{equation}\n",
    "\n",
    "avec $\\hbar$ la contante réduite de Planck égale à $6.582 \\times 10^{−16} eVs$.\n",
    "\n",
    "Pour trouver la masse effective du sommet de la dernière bande de valence et de la base de la première bande de conduction, nous allons dans un premier temps trouver une approximation parabolique du sommet (de la base). Ensuite, nous allons dériver cette équation 2 fois par rapport à k pour finalement utilisé l'équation ci-dessus."
   ]
  },
  {
   "cell_type": "code",
   "execution_count": 286,
   "metadata": {},
   "outputs": [
    {
     "data": {
      "image/png": "[encoded data removed]",
      "text/plain": [
       "<Figure size 432x288 with 1 Axes>"
      ]
     },
     "metadata": {
      "needs_background": "light"
     },
     "output_type": "display_data"
    },
    {
     "name": "stdout",
     "output_type": "stream",
     "text": [
      "La masse effective du sommet de la dernière bande de valence vaut -7.933324375643641e-28 kg\n"
     ]
    }
   ],
   "source": [
    "h_bar = 6.582119570 * 1e-16 #eVs\n",
    "\n",
    "#Initialisation des variables\n",
    "x1 = np.zeros(20)\n",
    "x2 = np.zeros(20)\n",
    "E1 = np.zeros(10)\n",
    "E2 = np.zeros(10)\n",
    "i = 0\n",
    "\n",
    "#Récupération des abscisses et des ordonnées à gauche et à droite du maximum de la dernière bande de valence\n",
    "for xpath, epath in zip(Elem[\"distances\"], Elem[\"energy\"]):\n",
    "    if i == 3:\n",
    "        x1 = xpath\n",
    "        E1 = epath['1'][15]\n",
    "    elif i == 4:\n",
    "        x2 = xpath\n",
    "        E2 = epath['1'][15]\n",
    "    i = i+1  \n",
    "    \n",
    "x = x1 + x2[1:len(x2)]\n",
    "E = E1 + E2[1:len(E2)]\n",
    "\n",
    "#Interpolation du second degré\n",
    "lin = np.polyfit(x[7:10],E[7:10],2)\n",
    "test = np.linspace(2.4,3.8,100)\n",
    "E_inter = lin[0]*(test*test)+lin[1]*test+lin[2]\n",
    "plt.plot(x,E, label='Courbe de dispersion')\n",
    "plt.plot(test,E_inter, label='Approximation parabolique')\n",
    "plt.xlabel('k')\n",
    "plt.ylabel('E-Ef [eV]')\n",
    "plt.title('Zoom du sommet de la dernière bande de valence')\n",
    "plt.legend()\n",
    "plt.show()\n",
    "\n",
    "#Calcul de la masse effective\n",
    "diff_1 = np.diff(E_inter,2)\n",
    "m_e = h_bar**2/diff_1[0]\n",
    "print('La masse effective du sommet de la dernière bande de valence vaut ' + str(m_e) + ' kg')"
   ]
  },
  {
   "cell_type": "code",
   "execution_count": 285,
   "metadata": {},
   "outputs": [
    {
     "data": {
      "image/png": "[encoded data removed]",
      "text/plain": [
       "<Figure size 432x288 with 1 Axes>"
      ]
     },
     "metadata": {
      "needs_background": "light"
     },
     "output_type": "display_data"
    },
    {
     "name": "stdout",
     "output_type": "stream",
     "text": [
      "La masse effective de la base de la première bande de conduction vaut 5.760552340668372e-28 kg\n"
     ]
    }
   ],
   "source": [
    "#Initialisation des variables\n",
    "#x1 = np.zeros(20)\n",
    "#x2 = np.zeros(20)\n",
    "#E1 = np.zeros(10)\n",
    "#E2 = np.zeros(10)\n",
    "i = 0\n",
    "\n",
    "#Récupération des abscisses et des ordonnées à gauche et à droite du maximum de la dernière bande de valence\n",
    "for xpath, epath in zip(Elem[\"distances\"], Elem[\"energy\"]):\n",
    "    if i == 5:\n",
    "        x1 = xpath\n",
    "        E1 = epath['1'][16]\n",
    "    elif i == 6:\n",
    "        x2 = xpath\n",
    "        E2 = epath['1'][16]\n",
    "    i = i+1  \n",
    "    \n",
    "x = x1 + x2[1:len(x2)]\n",
    "E = E1 + E2[1:len(E2)]\n",
    "\n",
    "#Interpolation du second degré\n",
    "lin = np.polyfit(x[8:12],E[8:12],2)\n",
    "test = np.linspace(3.85,4.5,100)\n",
    "E_inter = lin[0]*(test*test)+lin[1]*test+lin[2]\n",
    "plt.plot(x,E, label='Courbe de dispersion')\n",
    "plt.plot(test,E_inter, label='Approximation parabolique')\n",
    "plt.xlabel('k')\n",
    "plt.ylabel('E-Ef [eV]')\n",
    "plt.title('Zoom de la base de la première bande de conduction')\n",
    "plt.legend()\n",
    "plt.show()\n",
    "\n",
    "#Calcul de la masse effective\n",
    "diff_1 = np.diff(E_inter,2)\n",
    "m_e = h_bar**2/diff_1[0]\n",
    "print('La masse effective de la base de la première bande de conduction vaut ' + str(m_e) + ' kg')"
   ]
  },
  {
   "cell_type": "markdown",
   "metadata": {},
   "source": [
    "# 4) Références <h1>\n",
    "   \n",
    "**Code :**\n",
    "\n",
    "[Band Structure of NiO](https://matgenb.materialsvirtuallab.org/2013/01/01/Bandstructure-of-NiO.html)"
   ]
  },
  {
   "cell_type": "code",
   "execution_count": null,
   "metadata": {},
   "outputs": [],
   "source": []
  }
 ],
 "metadata": {
  "kernelspec": {
   "display_name": "Python 3",
   "language": "python",
   "name": "python3"
  },
  "language_info": {
   "codemirror_mode": {
    "name": "ipython",
    "version": 3
   },
   "file_extension": ".py",
   "mimetype": "text/x-python",
   "name": "python",
   "nbconvert_exporter": "python",
   "pygments_lexer": "ipython3",
   "version": "3.6.8"
  }
 },
 "nbformat": 4,
 "nbformat_minor": 2
}
