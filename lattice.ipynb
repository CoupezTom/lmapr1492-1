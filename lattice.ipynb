{
 "cells": [
  {
   "cell_type": "code",
   "execution_count": 40,
   "metadata": {},
   "outputs": [],
   "source": [
    "from pymatgen.ext.matproj import MPRester\n",
    "\n",
    "with MPRester (\"z5aIUAkpFPTHndsr\") as m:\n",
    "    \n",
    "    #Creation de la structure du cristal à partir du MP\n",
    "    structure = m.get_structure_by_material_id(\"mp-15783\",True,True)"
   ]
  },
  {
   "cell_type": "code",
   "execution_count": 58,
   "metadata": {},
   "outputs": [],
   "source": [
    "from pymatgen.symmetry.analyzer import SpacegroupAnalyzer\n",
    "\n",
    "#Creation d'un objet SpaceGroupAnalyzer\n",
    "struct = SpacegroupAnalyzer(structure)\n",
    "\n",
    "#Creation d'une maille du reseau direct\n",
    "maille = structure.lattice\n",
    "\n",
    "#Vecteurs de base du reseau direct\n",
    "a = maille.a\n",
    "b = maille.b\n",
    "c = maille.c\n",
    "\n",
    "#Creation d'une maille du reseau reciproque\n",
    "reciprocal = maille.reciprocal_lattice\n",
    "\n",
    "#Vecteurs de base du reseau reciproque\n",
    "a_r = reciprocal.a\n",
    "b_r = reciprocal.b\n",
    "c_r = reciprocal.c\n",
    "\n",
    "#Type de maille\n",
    "lattice = struct.get_lattice_type()\n",
    "\n",
    "#Systeme cristallin\n",
    "cristal = struct.get_crystal_system()\n",
    "\n",
    "#Groupe ponctuel\n",
    "GP = struct.get_point_group_symbol()"
   ]
  },
  {
   "cell_type": "code",
   "execution_count": null,
   "metadata": {},
   "outputs": [],
   "source": []
  }
 ],
 "metadata": {
  "kernelspec": {
   "display_name": "Python 3",
   "language": "python",
   "name": "python3"
  },
  "language_info": {
   "codemirror_mode": {
    "name": "ipython",
    "version": 3
   },
   "file_extension": ".py",
   "mimetype": "text/x-python",
   "name": "python",
   "nbconvert_exporter": "python",
   "pygments_lexer": "ipython3",
   "version": "3.6.8"
  }
 },
 "nbformat": 4,
 "nbformat_minor": 2
}
