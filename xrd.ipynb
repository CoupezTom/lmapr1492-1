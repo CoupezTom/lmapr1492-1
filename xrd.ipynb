{
 "cells": [
  {
   "cell_type": "markdown",
   "metadata": {},
   "source": [
    "Dans cette partie, il nous est demandé de déterminer les 3 premiers pics du diffractogramme correspondant à notre cristal et de précisier les indices hkl associés. Pour toute cette partie, on considère un rayonnement X incident Cu Kα de longueur d’onde λ=1.54060 Angström. Ces rayons X vont créer des phénomènes d'interférences constructives ou destructives selon la direction. Sur base du modèle de diffraction, nous pouvons touver la position de chacun des atomes du cristal (en respectant certaines hypothèses).\n",
    "\n",
    "Dans la suite de l'exercie, nous considèrerons $2\\theta$ comme l'angle entre la direction d'incidence et celle d'observation (voir image ci-dessous).\n",
    "\n",
    "<img src=\"https://github.com/sderaedemack/lmapr1492/blob/master/Images/2Theta.png?raw=true\" width=\"300\">\n",
    "\n",
    "La cellule utilisée pour cet exercice est la cellule primitive."
   ]
  },
  {
   "cell_type": "code",
   "execution_count": 3,
   "metadata": {},
   "outputs": [],
   "source": [
    "from pymatgen.ext.matproj import MPRester\n",
    "\n",
    "with MPRester (\"z5aIUAkpFPTHndsr\") as m:\n",
    "    \n",
    "    #Création de la structure du cristal à partir du MP\n",
    "    structure = m.get_structure_by_material_id(\"mp-15783\")"
   ]
  },
  {
   "cell_type": "code",
   "execution_count": 4,
   "metadata": {},
   "outputs": [],
   "source": [
    "from pymatgen.analysis.diffraction.xrd import XRDCalculator\n",
    "\n",
    "#Création d'un objet XRDCalculator\n",
    "xrd = XRDCalculator(1.54060)\n",
    "\n",
    "#Calcul du modèle de diffraction\n",
    "pat = xrd.get_pattern(structure)"
   ]
  },
  {
   "cell_type": "markdown",
   "metadata": {},
   "source": [
    "Dans un premier temps, nous pouvons observer le diffractogramme de notre cristal. Celui-ci représente l'angle $2\\theta$ en degré en fonction de l'intensité mise à l'échelle (de 0 à 100)."
   ]
  },
  {
   "cell_type": "code",
   "execution_count": 5,
   "metadata": {},
   "outputs": [
    {
     "data": {
      "text/plain": [
       "<Figure size 1600x1000 with 1 Axes>"
      ]
     },
     "metadata": {},
     "output_type": "display_data"
    }
   ],
   "source": [
    "#Affichage du diffractogramme \n",
    "xrd.show_plot(structure,annotate_peaks=False,two_theta_range=[0,175])"
   ]
  },
  {
   "cell_type": "markdown",
   "metadata": {},
   "source": [
    "# Premier pic <h1>"
   ]
  },
  {
   "cell_type": "code",
   "execution_count": 9,
   "metadata": {},
   "outputs": [
    {
     "name": "stdout",
     "output_type": "stream",
     "text": [
      "Angle du premier pic : 11.973340554041021 degrés\n",
      "Intensité du premier pic : 68.24713081677788\n",
      "Indices hkl du premier pic :[{'hkl': (1, 1, 1), 'multiplicity': 2}]\n"
     ]
    }
   ],
   "source": [
    "#Récupération de l'angle du premier pic\n",
    "theta1 = pat.x[0]\n",
    "\n",
    "#Récupération de l'intensité du premier pic\n",
    "I1 = pat.y[0]\n",
    "\n",
    "#Récupération des indices hkl du premier pic\n",
    "hkl1 = pat.hkls[0]\n",
    "\n",
    "print('Angle du premier pic : ' + str(theta1) + ' degrés')\n",
    "print('Intensité du premier pic : ' + str(I1))\n",
    "print('Indices hkl du premier pic :' + str(hkl1))"
   ]
  },
  {
   "cell_type": "markdown",
   "metadata": {},
   "source": [
    "On peut voir que le premier pic se trouve à un angle $2\\theta = 11.97334055$ degrés et a une intensité de $68.24713081677788$. Les indices hkl correspondant sont $(1,1,1)$ et ils possèdent une multiplicité de 2."
   ]
  },
  {
   "cell_type": "markdown",
   "metadata": {},
   "source": [
    "# Deuxième pic <h1>"
   ]
  },
  {
   "cell_type": "code",
   "execution_count": 10,
   "metadata": {},
   "outputs": [
    {
     "name": "stdout",
     "output_type": "stream",
     "text": [
      "Angle du deuxième pic : 24.079960017812258 degrés\n",
      "Intensité du deuxième pic : 15.201938121575763\n",
      "Indices hkl du deuxième pic :[{'hkl': (2, 2, 2), 'multiplicity': 2}]\n"
     ]
    }
   ],
   "source": [
    "#Récupération de l'angle du deuxième pic\n",
    "theta2 = pat.x[1]\n",
    "\n",
    "#Récupération de l'intensité du deuxième pic\n",
    "I2 = pat.y[1]\n",
    "\n",
    "#Récupération des indices hkl du deuxième pic\n",
    "hkl2 = pat.hkls[1]\n",
    "\n",
    "print('Angle du deuxième pic : ' + str(theta2) + ' degrés')\n",
    "print('Intensité du deuxième pic : ' + str(I2))\n",
    "print('Indices hkl du deuxième pic :' + str(hkl2))"
   ]
  },
  {
   "cell_type": "markdown",
   "metadata": {},
   "source": [
    "On peut voir que le deuxième pic se trouve à un angle $2\\theta = 24.079960017812258$ degrés et a une intensité de $15.201938121575763$. Les indices hkl correspondant sont $(2, 2, 2)$ et ils possèdent une multiplicité de 2."
   ]
  },
  {
   "cell_type": "markdown",
   "metadata": {},
   "source": [
    "# Troisième pic <h1>"
   ]
  },
  {
   "cell_type": "code",
   "execution_count": 11,
   "metadata": {},
   "outputs": [
    {
     "name": "stdout",
     "output_type": "stream",
     "text": [
      "Angle du troisième pic : 25.104591995005084 degrés\n",
      "Intensité du troisième pic : 23.86766555216653\n",
      "Indices hkl du troisième pic :[{'hkl': (1, 0, 0), 'multiplicity': 6}]\n"
     ]
    }
   ],
   "source": [
    "#Récupération de l'angle du troisième pic\n",
    "theta3 = pat.x[2]\n",
    "\n",
    "#Récupération de l'intensité du troisième pic\n",
    "I3 = pat.y[2]\n",
    "\n",
    "#Récupération des indices hkl du troisième pic\n",
    "hkl3 = pat.hkls[2]\n",
    "\n",
    "print('Angle du troisième pic : ' + str(theta3) + ' degrés')\n",
    "print('Intensité du troisième pic : ' + str(I3))\n",
    "print('Indices hkl du troisième pic :' + str(hkl3))"
   ]
  },
  {
   "cell_type": "markdown",
   "metadata": {},
   "source": [
    "On peut voir que le troisème pic se trouve à un angle $2\\theta = 25.104591995005084$ degrés et a une intensité de $23.86766555216653$. Les indices hkl correspondant sont $(1, 0, 0)$ et ils possèdent une multiplicité de 6."
   ]
  },
  {
   "cell_type": "markdown",
   "metadata": {},
   "source": [
    "# Références <h1>\n",
    "\n",
    "**Image:**\n",
    "\n",
    "LMPAR1492 : Physique des matériaux (Gian-Marco Rignanese)"
   ]
  },
  {
   "cell_type": "code",
   "execution_count": null,
   "metadata": {},
   "outputs": [],
   "source": []
  }
 ],
 "metadata": {
  "kernelspec": {
   "display_name": "Python 3",
   "language": "python",
   "name": "python3"
  },
  "language_info": {
   "codemirror_mode": {
    "name": "ipython",
    "version": 3
   },
   "file_extension": ".py",
   "mimetype": "text/x-python",
   "name": "python",
   "nbconvert_exporter": "python",
   "pygments_lexer": "ipython3",
   "version": "3.6.8"
  }
 },
 "nbformat": 4,
 "nbformat_minor": 2
}
