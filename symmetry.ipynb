{
 "cells": [
  {
   "cell_type": "code",
   "execution_count": 121,
   "metadata": {},
   "outputs": [],
   "source": [
    "from pymatgen.ext.matproj import MPRester\n",
    "\n",
    "with MPRester (\"z5aIUAkpFPTHndsr\") as m:\n",
    "    \n",
    "    #Création de la structure du cristal à partir du MP\n",
    "    structure = m.get_structure_by_material_id(\"mp-15783\")"
   ]
  },
  {
   "cell_type": "code",
   "execution_count": 154,
   "metadata": {},
   "outputs": [
    {
     "name": "stdout",
     "output_type": "stream",
     "text": [
      "/usr/bin/sh: -c: line 0: syntax error near unexpected token `https://github.com/sderaedemack/lmapr1492/blob/master/PM1.jpg'\r\n",
      "/usr/bin/sh: -c: line 0: `[title](https://github.com/sderaedemack/lmapr1492/blob/master/PM1.jpg)'\r\n"
     ]
    }
   ],
   "source": [
    "from pymatgen.symmetry.analyzer import SpacegroupAnalyzer\n",
    "from pymatgen.core.operations import SymmOp\n",
    "\n",
    "#Création d'un objet SpaceGroupAnalyzer\n",
    "SA = SpacegroupAnalyzer(structure)\n",
    "\n",
    "#Création d'une structure conventionnelle pour déager le plus de symétries possible\n",
    "new_s = struct.get_conventional_standard_structure()\n",
    "\n",
    "#Création d'un nouvel objet SpaceGroupAnalyzer lié à la structure'new_s\n",
    "SP = SpacegroupAnalyzer(new_s)\n",
    "\n",
    "#Création des sites des atomes de la molécule pour pouvoir accéder aux coordonnées de chacun\n",
    "site = new_s.sites\n",
    "\n",
    "########Plan miroir########\n",
    "PM = SymmOp.from_xyz_string('-y,-x,z')\n",
    "#Position initiale de l'atome K numéro 9\n",
    "KI = site[0].frac_coords\n",
    "#Position après opération de symétrie de l'atome K numéro 9\n",
    "KF = PM.operate(KI)\n",
    "#Images\n",
    "![title](https://github.com/sderaedemack/lmapr1492/blob/master/PM1.jpg)\n",
    "\n",
    "########Rotation d'ordre 2########\n",
    "C2 = SymmOp.from_xyz_string('x-y,-y,-z')\n",
    "#Position initiale de l'atome S numéro 8\n",
    "SI = site[6].frac_coords\n",
    "#Position après opération de symétrie de l'atome S numéro 8\n",
    "SF = C2.operate(SI)\n",
    "\n",
    "########Rotation hélicoïdale d'ordre 3########\n",
    "RH = SymmOp.from_xyz_string('-y-1/3,x-y+1/3,z+1/3')\n",
    "#Position initiale de l'atome Sm numéro 6\n",
    "SmI = site[4].frac_coords\n",
    "#Position après opération de symétrie de l'atome Sm numéro 6\n",
    "SmF = RH.operate(SmI)\n",
    "\n",
    "\n",
    "#Affichage des opérations\n",
    "#print('Coordonnées cartésiennes initiales des atomes')\n",
    "#print('K: ' + str(K))\n",
    "#print('Sm : ' + str(Sm))\n",
    "#print('S1 : ' + str(S1))\n",
    "#print('S2 : ' + str(S2))\n",
    "\n",
    "#for i in [2,4,6]:\n",
    " #   print('\\n \\n Opération de symétrie ' + str(number) + ' :')\n",
    "  #  print('Matrice de rotation')\n",
    "   # print(sym[i].rotation_matrix)\n",
    "    #print('\\n Vecteur de transaltion')\n",
    "    #print(sym[i].translation_vector)\n",
    "    #print('\\n Nouvelles coordonnées cartésiennes des atomes')\n",
    "    #print('K : ' + str(sym[i].apply_rotation_only(K)))\n",
    "    #print('Sm : ' + str(sym[i].apply_rotation_only(Sm)))\n",
    "    #print('S1 : ' + str(sym[i].apply_rotation_only(S1)))\n",
    "    #print('S2 : ' + str(sym[i].apply_rotation_only(S2)))\n",
    "    #number += 1"
   ]
  },
  {
   "cell_type": "code",
   "execution_count": null,
   "metadata": {},
   "outputs": [],
   "source": []
  }
 ],
 "metadata": {
  "kernelspec": {
   "display_name": "Python 3",
   "language": "python",
   "name": "python3"
  },
  "language_info": {
   "codemirror_mode": {
    "name": "ipython",
    "version": 3
   },
   "file_extension": ".py",
   "mimetype": "text/x-python",
   "name": "python",
   "nbconvert_exporter": "python",
   "pygments_lexer": "ipython3",
   "version": "3.6.8"
  }
 },
 "nbformat": 4,
 "nbformat_minor": 2
}
