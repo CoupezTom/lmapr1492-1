{
 "cells": [
  {
   "cell_type": "code",
   "execution_count": 1,
   "metadata": {},
   "outputs": [],
   "source": [
    "from pymatgen.ext.matproj import MPRester\n",
    "\n",
    "with MPRester (\"z5aIUAkpFPTHndsr\") as m:\n",
    "    \n",
    "    #Création de la structure du cristal à partir du MP\n",
    "    structure = m.get_structure_by_material_id(\"mp-15783\")"
   ]
  },
  {
   "cell_type": "code",
   "execution_count": 2,
   "metadata": {},
   "outputs": [],
   "source": [
    "from pymatgen.symmetry.analyzer import SpacegroupAnalyzer\n",
    "from pymatgen.core.operations import SymmOp\n",
    "\n",
    "#Création d'un objet SpaceGroupAnalyzer\n",
    "SA = SpacegroupAnalyzer(structure)\n",
    "\n",
    "#Création d'une structure conventionnelle pour déager le plus de symétries possible\n",
    "new_s = SA.get_conventional_standard_structure()\n",
    "\n",
    "#Création d'un nouvel objet SpaceGroupAnalyzer lié à la structure'new_s\n",
    "SP = SpacegroupAnalyzer(new_s)\n",
    "\n",
    "#Création des sites des atomes de la molécule pour pouvoir accéder aux coordonnées de chacun\n",
    "site = new_s.sites"
   ]
  },
  {
   "cell_type": "markdown",
   "metadata": {},
   "source": [
    "Dans cette partie, nous allons analyser l'effet de 3 symétries différentes sur les atomes de notre cristal.\n",
    "\n",
    "Rappelons d'abord qu'il existe différentes symétries ponctuelles (i.e. des opérations telles que au moins un point de la cellule n'est pas affecté par celles-ci) auxquelles sont associés des éléments de symétrie ansi que des opérateurs. Ces derniers sont représentés par des matrices orthogonales permettant d'exprimer les coordonnées cartésiennes d'un point et de son image. "
   ]
  },
  {
   "cell_type": "code",
   "execution_count": 3,
   "metadata": {},
   "outputs": [],
   "source": [
    "########Réflexion########\n",
    "PM = SymmOp.from_xyz_string('-y,-x,z')\n",
    "#Position initiale de l'atome K numéro 9\n",
    "KI = site[0].frac_coords\n",
    "#Position après opération de symétrie de l'atome K numéro 9\n",
    "KF = PM.operate(KI)"
   ]
  },
  {
   "cell_type": "markdown",
   "metadata": {},
   "source": [
    "# 1) Réflexion <h1>\n",
    "\n",
    "__Illustration de la réflexion par rapport à un plan miroir :__\n",
    "\n",
    "![tilte](https://github.com/sderaedemack/lmapr1492/blob/master/PM1.jpg?raw=true)\n",
    "![tilte](https://github.com/sderaedemack/lmapr1492/blob/master/PM2.jpg?raw=true)\n",
    "\n",
    "__Description :__\n",
    "\n",
    "La réflexion est une opération qui inverse la chiralité et dont le déterminant de l'opérateur vaut -1. On observe que l'atome garde la même coordonnée en z. \n",
    "\n",
    "__Equation :__\n",
    "\n",
    "$$\\begin{pmatrix}  0 & -1 & 0 \\\\ -1 & 0 & 0 \\\\ 0 & 0 & 1 \\end{pmatrix} \n",
    "\\begin{pmatrix}  \n",
    "x \\\\ \n",
    "y \\\\ \n",
    "z\n",
    "\\end{pmatrix} = \n",
    "\\begin{pmatrix} \n",
    "-y \\\\ \n",
    "-x \\\\ \n",
    "z \n",
    "\\end{pmatrix}$$\n",
    "\n",
    "L'atome K passe de la position $\\begin{bmatrix} 0.33333333 & 0.66666667 & 0.16666667 \\end{bmatrix}$ à la position $\\begin{bmatrix} -0.66666667 & -0.33333333 & 0.16666667 \\end{bmatrix}$."
   ]
  },
  {
   "cell_type": "code",
   "execution_count": 4,
   "metadata": {},
   "outputs": [],
   "source": [
    "########Rotation d'ordre 2########\n",
    "C2 = SymmOp.from_xyz_string('x-y,-y,-z')\n",
    "#Position initiale de l'atome S numéro 8\n",
    "SI = site[6].frac_coords\n",
    "#Position après opération de symétrie de l'atome S numéro 8\n",
    "SF = C2.operate(SI)"
   ]
  },
  {
   "cell_type": "markdown",
   "metadata": {},
   "source": [
    "# 2) Rotation d'ordre 2 <h1>\n",
    "    \n",
    "__Illustration de la rotation d'ordre 2 autour d'un axe de rotation :__\n",
    "\n",
    "![tilte](https://github.com/sderaedemack/lmapr1492/blob/master/C21.jpg?raw=true)\n",
    "\n",
    "__Description :__\n",
    "\n",
    "La rotation est une opération consistant en la rotation de l'atome autour de l'axe de rotation (ici le vecteur a) d'un angle $\\pi$. Elle conserve la chiralité et le déterminant de l'opérateur vaut 1. \n",
    "\n",
    "__Equation :__\n",
    "\n",
    "$$\\begin{pmatrix}  1 & -1 & 0 \\\\ 0 & -1 & 0 \\\\ 0 & 0 & -1 \\end{pmatrix} \n",
    "\\begin{pmatrix}  \n",
    "x \\\\ \n",
    "y \\\\ \n",
    "z \n",
    "\\end{pmatrix} = \n",
    "\\begin{pmatrix} \n",
    "x-y \\\\ \n",
    "-y \\\\ \n",
    "-z \n",
    "\\end{pmatrix}$$\n",
    "\n",
    "L'atome S passe de la position $\\begin{bmatrix} 0.66666667 & 0.33333333 & 0.06844293 \\end{bmatrix}$ à la position $\\begin{bmatrix}  0.33333333 & -0.33333333 & -0.06844293 \\end{bmatrix}$."
   ]
  },
  {
   "cell_type": "code",
   "execution_count": 5,
   "metadata": {},
   "outputs": [],
   "source": [
    "########Rotation hélicoïdale d'ordre 3########\n",
    "RH = SymmOp.from_xyz_string('-y-1/3,x-y+1/3,z+1/3')\n",
    "#Position initiale de l'atome Sm numéro 6\n",
    "SmI = site[4].frac_coords\n",
    "#Position après opération de symétrie de l'atome Sm numéro 6\n",
    "SmF = RH.operate(SmI)"
   ]
  },
  {
   "cell_type": "markdown",
   "metadata": {},
   "source": [
    "# 3) Rotation hélicoïdale d'ordre 3 <h1>\n",
    "    \n",
    "__Illustration de la rotation hélicoïdale d'ordre 3 par rapport à un axe hélicoïdal:__\n",
    "\n",
    "![tilte](https://github.com/sderaedemack/lmapr1492/blob/master/screw1.jpg?raw=true)\n",
    "![tilte](https://github.com/sderaedemack/lmapr1492/blob/master/screw2.jpg?raw=true)\n",
    "![tilte](https://github.com/sderaedemack/lmapr1492/blob/master/screw3.jpg?raw=true)\n",
    "\n",
    "__Description :__\n",
    "\n",
    "La rotation hélicoïdale est une opération non-symmorphique car elle possède une composante de translation. La molécule subit une rotation de $\\frac{2\\pi}{3}$ dans le sens anti-hotlogique autour de l'axe hélicoïdal (sur l'image en orange), suivie d'une translation parallèle à l'axe hélicoïdal d'une valeur de $\\frac{1}{3}$.\n",
    "\n",
    "__Equation :__ \n",
    "\n",
    "$$\\begin{pmatrix}  0 & -1 & 0 \\\\ 1 & -1 & 0 \\\\ 0 & 0 & 1 \\end{pmatrix} \n",
    "\\begin{pmatrix}  \n",
    "x \\\\ \n",
    "y \\\\ \n",
    "z \n",
    "\\end{pmatrix} + \n",
    "\\begin{pmatrix}  \n",
    "-0.33 \\\\ \n",
    "0.33 \\\\ \n",
    "0.33 \n",
    "\\end{pmatrix} = \n",
    "\\begin{pmatrix} \n",
    "-y-1/3 \\\\ \n",
    "x-y+1/3 \\\\ \n",
    "z+1/3 \n",
    "\\end{pmatrix}$$\n",
    "\n",
    "L'atome Sm passe de la position $\\begin{bmatrix} 0.66666667 & 0.33333333 & 0.33333333 \\end{bmatrix}$ à la position $\\begin{bmatrix}  -0.66666667  & 0.66666667  & 0.66666667 \\end{bmatrix}$."
   ]
  },
  {
   "cell_type": "markdown",
   "metadata": {},
   "source": [
    "# 4) Références <h1>\n",
    "__Images :__\n",
    "\n",
    "[Jmol Crystal Symmetry Explorer](https://www.pslc.ws/jsmol/jcse/explore.htm)\n",
    "\n",
    "__Mise en page :__\n",
    "\n",
    "[Mastering Markdown](https://guides.github.com/features/mastering-markdown/)\n",
    "\n",
    "__Théorie :__\n",
    "\n",
    "LMPAR1492 : Physique des matériaux (Gian-Marco Rignanese)\n",
    "\n",
    "[Vidéos de Michel Evain (Cristallographie géométrique)](https://www.youtube.com/watch?time_continue=413&v=uVVlL38KVeA)\n",
    "\n",
    "[Materials Project](https://materialsproject.org/materials/mp-15783/)"
   ]
  },
  {
   "cell_type": "code",
   "execution_count": null,
   "metadata": {},
   "outputs": [],
   "source": []
  }
 ],
 "metadata": {
  "kernelspec": {
   "display_name": "Python 3",
   "language": "python",
   "name": "python3"
  },
  "language_info": {
   "codemirror_mode": {
    "name": "ipython",
    "version": 3
   },
   "file_extension": ".py",
   "mimetype": "text/x-python",
   "name": "python",
   "nbconvert_exporter": "python",
   "pygments_lexer": "ipython3",
   "version": "3.6.8"
  }
 },
 "nbformat": 4,
 "nbformat_minor": 2
}
